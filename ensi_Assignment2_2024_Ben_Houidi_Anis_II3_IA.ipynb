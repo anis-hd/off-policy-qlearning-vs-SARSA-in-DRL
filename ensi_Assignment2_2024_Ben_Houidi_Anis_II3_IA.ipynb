{
  "cells": [
    {
      "cell_type": "markdown",
      "metadata": {
        "id": "LXsg1iB-TrcO"
      },
      "source": [
        "**Assignment Objective:**\n",
        "\n",
        "Consider the QWorld environment from your first assignment. The objective of this assignment is to design a agent that learn how to solve this problem through the **sarsamax (Q-learning)** and **sarsa** algorithms seen in class\n",
        "\n",
        "Provide your answers for **PART1** and **PART2** in this notebook and submit it before the due date."
      ]
    },
    {
      "cell_type": "code",
      "execution_count": null,
      "metadata": {
        "id": "Li8mThHUpfNi"
      },
      "outputs": [],
      "source": []
    },
    {
      "cell_type": "code",
      "execution_count": 10,
      "metadata": {
        "id": "QVTO6BATkqIJ"
      },
      "outputs": [],
      "source": [
        "\"\"\"Q Learning to solve a simple world model\n",
        "\n",
        "Simple deterministic MDP is made of 6 grids (states)\n",
        "---------------------------------\n",
        "|         |          |          |\n",
        "|  Start  |          |  Goal    |\n",
        "|         |          |          |\n",
        "---------------------------------\n",
        "|         |          |          |\n",
        "|         |          |  Hole    |\n",
        "|         |          |          |\n",
        "---------------------------------\n",
        "\n",
        "\"\"\"\n",
        "\n",
        "from collections import deque\n",
        "import numpy as np\n",
        "import argparse\n",
        "import os\n",
        "import time\n",
        "from termcolor import colored\n",
        "\n",
        "\n",
        "class QWorld:\n",
        "    def __init__(self):\n",
        "        \"\"\"Simulated deterministic world made of 6 states.\n",
        "        \"\"\"\n",
        "        # 4 actions\n",
        "        # 0 - Left, 1 - Down, 2 - Right, 3 - Up\n",
        "        self.col = 4\n",
        "\n",
        "        # 6 states\n",
        "        self.row = 6\n",
        "\n",
        "        # setup the environment\n",
        "        self.init_transition_table()\n",
        "        self.init_reward_table()\n",
        "\n",
        "        # reset the environment\n",
        "        self.reset()\n",
        "\n",
        "    def reset(self):\n",
        "        \"\"\"start of episode\"\"\"\n",
        "        self.state = 0\n",
        "        self.count = 0\n",
        "        return self.state\n",
        "\n",
        "    def is_in_win_state(self):\n",
        "        \"\"\"agent wins when the goal is reached\"\"\"\n",
        "        return self.state == 2\n",
        "\n",
        "\n",
        "    def init_reward_table(self):\n",
        "        \"\"\"\n",
        "        0 - Left, 1 - Down, 2 - Right, 3 - Up\n",
        "        ----------------\n",
        "        | 0 | 0 | 100  |\n",
        "        ----------------\n",
        "        | 0 | 0 | -100 |\n",
        "        ----------------\n",
        "        \"\"\"\n",
        "        self.reward_table = np.zeros([self.row, self.col])\n",
        "        self.reward_table[1, 2] = 100.\n",
        "        self.reward_table[4, 2] = -100.\n",
        "\n",
        "\n",
        "    def init_transition_table(self):\n",
        "        \"\"\"\n",
        "        0 - Left, 1 - Down, 2 - Right, 3 - Up\n",
        "        -------------\n",
        "        | 0 | 1 | 2 |\n",
        "        -------------\n",
        "        | 3 | 4 | 5 |\n",
        "        -------------\n",
        "        \"\"\"\n",
        "        self.transition_table = np.zeros([self.row, self.col],\n",
        "                                         dtype=int)\n",
        "\n",
        "        self.transition_table[0, 0] = 0\n",
        "        self.transition_table[0, 1] = 3\n",
        "        self.transition_table[0, 2] = 1\n",
        "        self.transition_table[0, 3] = 0\n",
        "\n",
        "        self.transition_table[1, 0] = 0\n",
        "        self.transition_table[1, 1] = 4\n",
        "        self.transition_table[1, 2] = 2\n",
        "        self.transition_table[1, 3] = 1\n",
        "\n",
        "        # terminal Goal state\n",
        "        self.transition_table[2, 0] = 2\n",
        "        self.transition_table[2, 1] = 2\n",
        "        self.transition_table[2, 2] = 2\n",
        "        self.transition_table[2, 3] = 2\n",
        "\n",
        "        self.transition_table[3, 0] = 3\n",
        "        self.transition_table[3, 1] = 3\n",
        "        self.transition_table[3, 2] = 4\n",
        "        self.transition_table[3, 3] = 0\n",
        "\n",
        "        self.transition_table[4, 0] = 3\n",
        "        self.transition_table[4, 1] = 4\n",
        "        self.transition_table[4, 2] = 5\n",
        "        self.transition_table[4, 3] = 1\n",
        "\n",
        "        # terminal Hole state\n",
        "        self.transition_table[5, 0] = 5\n",
        "        self.transition_table[5, 1] = 5\n",
        "        self.transition_table[5, 2] = 5\n",
        "        self.transition_table[5, 3] = 5\n",
        "\n",
        "\n",
        "    def step(self, action):\n",
        "        \"\"\"execute the action on the environment\n",
        "        Argument:\n",
        "            action (tensor): An action in Action space\n",
        "        Returns:\n",
        "            next_state (tensor): next env state\n",
        "            reward (float): reward received by the agent\n",
        "            done (Bool): whether the terminal state\n",
        "                is reached\n",
        "        \"\"\"\n",
        "        # determine the next_state given state and action\n",
        "        next_state = self.transition_table[self.state, action]\n",
        "        # done is True if next_state is Goal or Hole\n",
        "        done = next_state == 2 or next_state == 5\n",
        "        # reward given the state and action\n",
        "        reward = self.reward_table[self.state, action]\n",
        "        # the enviroment is now in new state\n",
        "        self.state = next_state\n",
        "        self.count+=1\n",
        "        return next_state, reward, done\n",
        "\n",
        "\n",
        "\n",
        "\n",
        "    def print_cell(self, row=0):\n",
        "        \"\"\"UI to display agent moving on the grid\"\"\"\n",
        "        print(\"\")\n",
        "        for i in range(13):\n",
        "            j = i - 2\n",
        "            if j in [0, 4, 8]:\n",
        "                if j == 8:\n",
        "                    if self.state == 2 and row == 0:\n",
        "                        marker = \"\\033[4mG\\033[0m\"\n",
        "                    elif self.state == 5 and row == 1:\n",
        "                        marker = \"\\033[4mH\\033[0m\"\n",
        "                    else:\n",
        "                        marker = 'G' if row == 0 else 'H'\n",
        "                    color = self.state == 2 and row == 0\n",
        "                    color = color or (self.state == 5 and row == 1)\n",
        "                    color = 'red' if color else 'blue'\n",
        "                    print(colored(marker, color), end='')\n",
        "                elif self.state in [0, 1, 3, 4]:\n",
        "                    cell = [(0, 0, 0), (1, 0, 4), (3, 1, 0), (4, 1, 4)]\n",
        "                    marker = '_' if (self.state, row, j) in cell else ' '\n",
        "                    print(colored(marker, 'red'), end='')\n",
        "                else:\n",
        "                    print(' ', end='')\n",
        "            elif i % 4 == 0:\n",
        "                    print('|', end='')\n",
        "            else:\n",
        "                print(' ', end='')\n",
        "        print(\"\")\n",
        "\n",
        "\n",
        "    def print_world(self, action, step,is_explore):\n",
        "        \"\"\"UI to display mode and action of agent\"\"\"\n",
        "        actions = { 0: \"(Left)\", 1: \"(Down)\", 2: \"(Right)\", 3: \"(Up)\" }\n",
        "        explore = \"Explore\" if is_explore else \"Exploit\"\n",
        "        print(\"Step\", step, \":\", explore, actions[action])\n",
        "        for _ in range(13):\n",
        "            print('-', end='')\n",
        "        self.print_cell()\n",
        "        for _ in range(13):\n",
        "            print('-', end='')\n",
        "        self.print_cell(row=1)\n",
        "        for _ in range(13):\n",
        "            print('-', end='')\n",
        "        print(\"\")\n",
        "\n",
        "\n"
      ]
    },
    {
      "cell_type": "code",
      "execution_count": 11,
      "metadata": {
        "id": "a_KUJemSmQR0"
      },
      "outputs": [],
      "source": [
        "def print_episode(episode, delay=1):\n",
        "    \"\"\"UI to display episode count\n",
        "    Arguments:\n",
        "        episode (int): episode number\n",
        "        delay (int): sec delay\n",
        "\n",
        "    \"\"\"\n",
        "    os.system('clear')\n",
        "    for _ in range(13):\n",
        "        print('=', end='')\n",
        "    print(\"\")\n",
        "    print(\"Episode \", episode)\n",
        "    for _ in range(13):\n",
        "        print('=', end='')\n",
        "    print(\"\")\n",
        "    time.sleep(delay)\n",
        "\n",
        "\n",
        "def print_status(q_world,q_agent, done, step, delay=1):\n",
        "    \"\"\"UI to display the world,\n",
        "        delay of 1 sec for ease of understanding\n",
        "    \"\"\"\n",
        "    os.system('clear')\n",
        "    q_world.print_world(action, step,q_agent.is_explore)\n",
        "    q_agent.print_q_table()\n",
        "    if done:\n",
        "        print(\"-------EPISODE DONE--------\")\n",
        "        delay *= 2\n",
        "    time.sleep(delay)"
      ]
    },
    {
      "cell_type": "markdown",
      "metadata": {
        "id": "5P3-9AEDn7tc"
      },
      "source": [
        "# **PART1**: SARSAMAX agent (off-policy)"
      ]
    },
    {
      "cell_type": "markdown",
      "metadata": {
        "id": "2QuIm5JQVm-B"
      },
      "source": [
        "\n",
        "## a) complete the TODO parts in the cell below in order to design an agent that learns through Q-learning"
      ]
    },
    {
      "cell_type": "code",
      "execution_count": 12,
      "metadata": {
        "id": "oh2b9AValSVn"
      },
      "outputs": [],
      "source": [
        "class QAgent:\n",
        "    def __init__(self, col, row, alpha):\n",
        "        \"\"\"Q-Learning based agent by Bellman Equation.\n",
        "        \"\"\"\n",
        "        # 4 actions\n",
        "        # 0 - Left, 1 - Down, 2 - Right, 3 - Up\n",
        "        self.col = col\n",
        "\n",
        "        # 6 states\n",
        "        self.row = row\n",
        "\n",
        "        # initialize the q table\n",
        "        self.q_table = np.zeros([self.row, self.col])\n",
        "\n",
        "        # discount factor\n",
        "        self.gamma = 0.9\n",
        "\n",
        "        # learning rate\n",
        "        self.alpha = alpha\n",
        "\n",
        "        # 90% exploration, 10% exploitation\n",
        "        self.epsilon = 0.9\n",
        "        # exploration decays by this factor every episode\n",
        "        self.epsilon_decay = 0.9\n",
        "        # in the long run, 10% exploration, 90% exploitation\n",
        "        self.epsilon_min = 0\n",
        "\n",
        "        # set action model to exploration\n",
        "        self.is_explore = True\n",
        "\n",
        "    def act(self, state):\n",
        "        \"\"\"determine the next action\n",
        "            either for Q Table(exploitation) or\n",
        "            random(exploration)\n",
        "        Return:\n",
        "            action (tensor): action that the agent\n",
        "                must execute\n",
        "        \"\"\"\n",
        "        # 0 - Left, 1 - Down, 2 - Right, 3 - Up\n",
        "        # action based on exploration\n",
        "\n",
        "        if np.random.rand() <= self.epsilon:\n",
        "            #choose a random action\n",
        "            action = np.random.choice(self.col)\n",
        "        else:\n",
        "            #choose the best action with the highest q-value (greedy)\n",
        "            action = np.argmax(self.q_table[state])\n",
        "\n",
        "        return action\n",
        "\n",
        "    def update_q_table(self, state, action, reward, next_state):\n",
        "        \"\"\"Q-Learning - update the Q Table using Q(s, a)\n",
        "        Arguments:\n",
        "            state (tensor) : agent state\n",
        "            action (tensor): action executed by the agent\n",
        "            reward (float): reward after executing action\n",
        "                for a given state\n",
        "            next_state (tensor): next state after executing\n",
        "                action for a given state\n",
        "        \"\"\"\n",
        "        ########################################################\n",
        "        #TODO update the Q-table with blended Bellman update rule\n",
        "        ########################################################\n",
        "\n",
        "\n",
        "        #best action for next state\n",
        "        best_next_action = np.argmax(self.q_table[next_state])\n",
        "        #updating bellmann equation\n",
        "        self.q_table[state, action] += self.alpha * (reward + self.gamma * self.q_table[next_state, best_next_action] - self.q_table[state, action])\n",
        "\n",
        "    def print_q_table(self):\n",
        "        \"\"\"UI to dump Q Table contents\"\"\"\n",
        "        print(\"Q-Table (Epsilon: %0.2f)\" % self.epsilon)\n",
        "        print(self.q_table)\n",
        "\n",
        "    def update_epsilon(self):\n",
        "        \"\"\"update Exploration-Exploitation mix\"\"\"\n",
        "        if self.epsilon > self.epsilon_min:\n",
        "            self.epsilon *= self.epsilon_decay\n"
      ]
    },
    {
      "cell_type": "markdown",
      "metadata": {
        "id": "AjMJbe6TVuGJ"
      },
      "source": [
        "\n",
        "## b) complete the TODO parts in the cell below order to implement a training loop\n",
        "\n",
        "Recall the steps seen in class:\n",
        "1. Start with an empty table for $Q(s, a)$.\n",
        "2. Obtain $(s, a, r, s')$ from the environment.\n",
        "3. Make a Bellman update: $𝑄(𝑠, 𝑎) ← (1 − 𝛼)𝑄(𝑠, 𝑎) + 𝛼 (𝑟 + 𝛾\\max\\limits_{x'\\in A} Q(s',a'))$\n",
        "4. Check convergence conditions. If not met, repeat from step 2."
      ]
    },
    {
      "cell_type": "code",
      "execution_count": 13,
      "metadata": {
        "id": "lIzA3B2HmSVb",
        "colab": {
          "base_uri": "https://localhost:8080/"
        },
        "outputId": "5fdfb7d4-5781-4b8e-a8e6-ce8cc23b5daf"
      },
      "outputs": [
        {
          "output_type": "stream",
          "name": "stdout",
          "text": [
            "=============\n",
            "Episode  0\n",
            "=============\n",
            "-------0.00% Goals in 0 Episodes---------\n",
            "=============\n",
            "Episode  1\n",
            "=============\n",
            "-------0.00% Goals in 1 Episodes---------\n",
            "=============\n",
            "Episode  2\n",
            "=============\n",
            "-------33.33% Goals in 2 Episodes---------\n",
            "=============\n",
            "Episode  64\n",
            "=============\n",
            "-------95.38% Goals in 64 Episodes---------\n",
            "=============\n",
            "Episode  104\n",
            "=============\n",
            "-------97.14% Goals in 104 Episodes---------\n",
            "=============\n",
            "Episode  253\n",
            "=============\n",
            "-------98.82% Goals in 253 Episodes---------\n",
            "=============\n",
            "Episode  314\n",
            "=============\n",
            "-------99.05% Goals in 314 Episodes---------\n",
            "=============\n",
            "Episode  484\n",
            "=============\n",
            "-------99.38% Goals in 484 Episodes---------\n",
            "=============\n",
            "Episode  599\n",
            "=============\n",
            "-------99.50% Goals in 599 Episodes---------\n",
            "solved in 1289 iterations\n"
          ]
        }
      ],
      "source": [
        "delay = 0\n",
        "wins = 0\n",
        "episode_count = 10000\n",
        "\n",
        "##################################################\n",
        "#TODO instantiate an environment q_world\n",
        "# and an agent called q_agent\n",
        "##################################################\n",
        "\n",
        "q_world = QWorld()\n",
        "q_agent = QAgent(q_world.col, q_world.row, alpha=0.1)\n",
        "\n",
        "#count the number of iterations\n",
        "iterations=0\n",
        "\n",
        "np.random.seed(5)\n",
        "\n",
        "for episode in range(episode_count):\n",
        "    state = q_world.reset()\n",
        "    done = False\n",
        "    print_episode(episode, delay=delay)\n",
        "    while not done:\n",
        "    ##################################################\n",
        "    # complete training loop below\n",
        "    ##################################################\n",
        "        # todo: choose an action given state\n",
        "        action = q_agent.act(state)\n",
        "\n",
        "        # todo: Obtain  next_state, reward, done  from the environment.\n",
        "        next_state, reward, done = q_world.step(action)\n",
        "\n",
        "\n",
        "        # todo: update the q-table.\n",
        "        q_agent.update_q_table(state, action, reward, next_state)\n",
        "\n",
        "\n",
        "        # todo: update state: the current state becomes the next_state in the next iteration\n",
        "        state = next_state\n",
        "\n",
        "        iterations+=1\n",
        "        # if episode is done:\n",
        "        if done:\n",
        "            if q_world.is_in_win_state():\n",
        "                wins += 1\n",
        "\n",
        "            percent_wins = 100.0 * wins / (episode + 1)\n",
        "            print(\"-------%0.2f%% Goals in %d Episodes---------\"\n",
        "                  % (percent_wins, episode))\n",
        "            # Exploration-Exploitation is updated every episode\n",
        "            q_agent.update_epsilon()\n",
        "\n",
        "\n",
        "    if (episode>100) & (percent_wins>=99.5):\n",
        "              print(\"solved in %d iterations\" %iterations)\n",
        "              break"
      ]
    },
    {
      "cell_type": "markdown",
      "metadata": {
        "id": "3CEqj7DMX3Gl"
      },
      "source": [
        "### c) Based on the the cell above, when is the problem considered solved? And, after how many iterations the problem was actually solved?\n",
        "### **(indicate answer in text cell  here)**"
      ]
    },
    {
      "cell_type": "markdown",
      "source": [
        "**the problem is considered solved when we reach at least 99.5% success rate. In this example the agent took 599 episodes to reach 99.5% success rate and completed 1289 interations of training.**"
      ],
      "metadata": {
        "id": "jSE26wrfr-LP"
      }
    },
    {
      "cell_type": "markdown",
      "metadata": {
        "id": "xvoEjiddYclw"
      },
      "source": [
        "### d) Provide a plot of the percent_wins as a function of the iterations (i.e., iteration number on the x-axis and corresponding percent_wins in the y-axis)"
      ]
    },
    {
      "cell_type": "code",
      "execution_count": 15,
      "metadata": {
        "id": "FIpBP24AbgCn",
        "colab": {
          "base_uri": "https://localhost:8080/",
          "height": 1000
        },
        "outputId": "9e1fb8bc-75d8-4b3b-ca62-b9973559c3e3"
      },
      "outputs": [
        {
          "output_type": "stream",
          "name": "stdout",
          "text": [
            "=============\n",
            "Episode  0\n",
            "=============\n",
            "=============\n",
            "Episode  1\n",
            "=============\n",
            "=============\n",
            "Episode  50\n",
            "=============\n",
            "=============\n",
            "=============\n",
            "Episode  598\n",
            "=============\n",
            "=============\n",
            "Episode  599\n",
            "=============\n",
            "solved in 1289 iterations\n"
          ]
        },
        {
          "output_type": "display_data",
          "data": {
            "text/plain": [
              "<Figure size 640x480 with 1 Axes>"
            ],
            "image/png": "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\n"
          },
          "metadata": {}
        }
      ],
      "source": [
        "import matplotlib.pyplot as plt\n",
        "\n",
        "Pwins = []\n",
        "its = []\n",
        "\n",
        "delay = 0\n",
        "wins = 0\n",
        "episode_count = 10000\n",
        "q_world = QWorld()\n",
        "q_agent = QAgent(q_world.col, q_world.row, alpha=0.1)\n",
        "\n",
        "iterations = 0\n",
        "\n",
        "np.random.seed(5)\n",
        "\n",
        "for episode in range(episode_count):\n",
        "    state = q_world.reset()\n",
        "    done = False\n",
        "    print_episode(episode, delay=delay)\n",
        "    while not done:\n",
        "        action = q_agent.act(state)\n",
        "        next_state, reward, done = q_world.step(action)\n",
        "\n",
        "\n",
        "        q_agent.update_q_table(state, action, reward, next_state)\n",
        "\n",
        "        state = next_state\n",
        "        iterations += 1\n",
        "\n",
        "        if done:\n",
        "            if q_world.is_in_win_state():\n",
        "                wins += 1\n",
        "\n",
        "            percent_wins = 100.0 * wins / (episode + 1)\n",
        "            Pwins.append(percent_wins)\n",
        "            its.append(iterations)\n",
        "            q_agent.update_epsilon()\n",
        "\n",
        "    if (episode > 100) & (percent_wins >= 99.5):\n",
        "        print(\"solved in %d iterations\" % iterations)\n",
        "        break\n",
        "\n",
        "plt.plot(its, Pwins)\n",
        "plt.xlabel('Iterations')\n",
        "plt.ylabel('Percent Wins')\n",
        "plt.title('Percent Wins vs Iterations')\n",
        "plt.show()"
      ]
    },
    {
      "cell_type": "markdown",
      "metadata": {
        "id": "pB6AG4AzZ4mu"
      },
      "source": [
        "### e) Print the final Q-table (after training loop ends)"
      ]
    },
    {
      "cell_type": "code",
      "execution_count": 16,
      "metadata": {
        "id": "pokEKrWBbfas",
        "colab": {
          "base_uri": "https://localhost:8080/"
        },
        "outputId": "cffbd7e0-3e14-4345-fa73-8e00b059c54e"
      },
      "outputs": [
        {
          "output_type": "stream",
          "name": "stdout",
          "text": [
            "[[  0.600777     0.          90.           0.        ]\n",
            " [  0.600777     2.54337213 100.          16.13991943]\n",
            " [  0.           0.           0.           0.        ]\n",
            " [  0.           0.           0.351459     0.        ]\n",
            " [  0.           0.351459   -27.1         21.02568763]\n",
            " [  0.           0.           0.           0.        ]]\n"
          ]
        }
      ],
      "source": [
        "print(q_agent.q_table)"
      ]
    },
    {
      "cell_type": "markdown",
      "metadata": {
        "id": "1cUdEq-IaydQ"
      },
      "source": [
        "### f) Based on this final table, what is the best action to take if the agent is in state 3?\n",
        "### **(add answer in text cell here)**"
      ]
    },
    {
      "cell_type": "markdown",
      "source": [
        "**Action 2 has the highest q value in the row of the 3rd state (0.3514) so it's the best action to take**"
      ],
      "metadata": {
        "id": "tFCFmemLthdQ"
      }
    },
    {
      "cell_type": "markdown",
      "metadata": {
        "id": "jiTV3ZpPbiZb"
      },
      "source": [
        "### g) Finally, now use your trained agent in 20 episodes-- full exploitation\n",
        "### Use `print_status` for showing episode results\n",
        "\n",
        "### Then, provide a plot that shows whether the agent reached the goal or not as a function of the episodes (i.e, x-axis is episode number, y-axis: 1 if goal reached, 0 otherwise)\n",
        "\n",
        "### Comment on the obtained results.\n",
        "### What is the percent wins  for these 20 episodes?"
      ]
    },
    {
      "cell_type": "code",
      "execution_count": 29,
      "metadata": {
        "id": "PG4r9dMrcwJ_",
        "colab": {
          "base_uri": "https://localhost:8080/"
        },
        "outputId": "d6fd3d2b-7d47-475e-8845-8502288b2945"
      },
      "outputs": [
        {
          "output_type": "stream",
          "name": "stdout",
          "text": [
            "\u001b[1;30;43mStreaming output truncated to the last 5000 lines.\u001b[0m\n",
            " [ 0.  0.  0.  0.]\n",
            " [ 0.  0.  0.  0.]]\n",
            "Step 11 : Explore (Down)\n",
            "-------------\n",
            "|   |   | G |\n",
            "-------------\n",
            "| _ |   | H |\n",
            "-------------\n",
            "Q-Table (Epsilon: 0.50)\n",
            "[[ 0.  0.  0.  0.]\n",
            " [ 0.  0. 10.  0.]\n",
            " [ 0.  0.  0.  0.]\n",
            " [ 0.  0.  0.  0.]\n",
            " [ 0.  0.  0.  0.]\n",
            " [ 0.  0.  0.  0.]]\n",
            "Step 12 : Explore (Left)\n",
            "-------------\n",
            "|   |   | G |\n",
            "-------------\n",
            "| _ |   | H |\n",
            "-------------\n",
            "Q-Table (Epsilon: 0.50)\n",
            "[[ 0.  0.  0.  0.]\n",
            " [ 0.  0. 10.  0.]\n",
            " [ 0.  0.  0.  0.]\n",
            " [ 0.  0.  0.  0.]\n",
            " [ 0.  0.  0.  0.]\n",
            " [ 0.  0.  0.  0.]]\n",
            "Step 13 : Explore (Down)\n",
            "-------------\n",
            "|   |   | G |\n",
            "-------------\n",
            "| _ |   | H |\n",
            "-------------\n",
            "Q-Table (Epsilon: 0.50)\n",
            "[[ 0.  0.  0.  0.]\n",
            " [ 0.  0. 10.  0.]\n",
            " [ 0.  0.  0.  0.]\n",
            " [ 0.  0.  0.  0.]\n",
            " [ 0.  0.  0.  0.]\n",
            " [ 0.  0.  0.  0.]]\n",
            "Step 14 : Explore (Left)\n",
            "-------------\n",
            "|   |   | G |\n",
            "-------------\n",
            "| _ |   | H |\n",
            "-------------\n",
            "Q-Table (Epsilon: 0.50)\n",
            "[[ 0.  0.  0.  0.]\n",
            " [ 0.  0. 10.  0.]\n",
            " [ 0.  0.  0.  0.]\n",
            " [ 0.  0.  0.  0.]\n",
            " [ 0.  0.  0.  0.]\n",
            " [ 0.  0.  0.  0.]]\n",
            "Step 15 : Explore (Left)\n",
            "-------------\n",
            "|   |   | G |\n",
            "-------------\n",
            "| _ |   | H |\n",
            "-------------\n",
            "Q-Table (Epsilon: 0.50)\n",
            "[[ 0.  0.  0.  0.]\n",
            " [ 0.  0. 10.  0.]\n",
            " [ 0.  0.  0.  0.]\n",
            " [ 0.  0.  0.  0.]\n",
            " [ 0.  0.  0.  0.]\n",
            " [ 0.  0.  0.  0.]]\n",
            "Step 16 : Explore (Down)\n",
            "-------------\n",
            "|   |   | G |\n",
            "-------------\n",
            "| _ |   | H |\n",
            "-------------\n",
            "Q-Table (Epsilon: 0.50)\n",
            "[[ 0.  0.  0.  0.]\n",
            " [ 0.  0. 10.  0.]\n",
            " [ 0.  0.  0.  0.]\n",
            " [ 0.  0.  0.  0.]\n",
            " [ 0.  0.  0.  0.]\n",
            " [ 0.  0.  0.  0.]]\n",
            "Step 17 : Explore (Left)\n",
            "-------------\n",
            "|   |   | G |\n",
            "-------------\n",
            "| _ |   | H |\n",
            "-------------\n",
            "Q-Table (Epsilon: 0.50)\n",
            "[[ 0.  0.  0.  0.]\n",
            " [ 0.  0. 10.  0.]\n",
            " [ 0.  0.  0.  0.]\n",
            " [ 0.  0.  0.  0.]\n",
            " [ 0.  0.  0.  0.]\n",
            " [ 0.  0.  0.  0.]]\n",
            "Step 18 : Explore (Up)\n",
            "-------------\n",
            "| _ |   | G |\n",
            "-------------\n",
            "|   |   | H |\n",
            "-------------\n",
            "Q-Table (Epsilon: 0.50)\n",
            "[[ 0.  0.  0.  0.]\n",
            " [ 0.  0. 10.  0.]\n",
            " [ 0.  0.  0.  0.]\n",
            " [ 0.  0.  0.  0.]\n",
            " [ 0.  0.  0.  0.]\n",
            " [ 0.  0.  0.  0.]]\n",

            ...
   
            "Step 12 : Explore (Right)\n",
            "-------------\n",
            "|   |   | \u001b[4mG\u001b[0m |\n",
            "-------------\n",
            "|   |   | H |\n",
            "-------------\n",
            "Q-Table (Epsilon: 0.50)\n",
            "[[ 0.  0.  0.  0.]\n",
            " [ 0.  0. 10.  0.]\n",
            " [ 0.  0.  0.  0.]\n",
            " [ 0.  0.  0.  0.]\n",
            " [ 0.  0.  0.  0.]\n",
            " [ 0.  0.  0.  0.]]\n",
            "-------EPISODE DONE--------\n",
            "Percent wins in exploitation phase: 95.00%\n"
          ]
        }
      ],
      "source": [
        "num_episodes = 20\n",
        "\n",
        "goal_reached_list = []\n",
        "\n",
        "for episode in range(num_episodes):\n",
        "    state = q_world.reset()\n",
        "    done = False\n",
        "    print_episode(episode, delay=delay)\n",
        "    while not done:\n",
        "        action = q_agent.act(state)\n",
        "        next_state, reward, done = q_world.step(action)\n",
        "        state = next_state\n",
        "        print_status(q_world, q_agent, done, q_world.count, delay)\n",
        "    goal_reached_list.append(1 if q_world.is_in_win_state() else 0)\n",
        "\n",
        "percent_wins_exploitation = 100 * sum(goal_reached_list) / num_episodes\n",
        "print(f\"Percent wins in exploitation phase: {percent_wins_exploitation:.2f}%\")"
      ]
    },
    {
      "cell_type": "code",
      "source": [
        "import matplotlib.pyplot as plt\n",
        "plt.bar(range(num_episodes), goal_reached_list, color='b', width=0.6)\n",
        "plt.title('Goal reached per episode')\n",
        "plt.xlabel('Episode')\n",
        "plt.ylabel('Goal reached (1=Yes, 0 otherwise)')\n",
        "plt.xticks(range(num_episodes))\n",
        "plt.yticks([0, 1])\n",
        "plt.show()\n"
      ],
      "metadata": {
        "colab": {
          "base_uri": "https://localhost:8080/",
          "height": 472
        },
        "id": "PJBiEug7K7kO",
        "outputId": "70b8ef0c-c71a-47ea-ab05-9c8f32cca3d8"
      },
      "execution_count": 30,
      "outputs": [
        {
          "output_type": "display_data",
          "data": {
            "text/plain": [
              "<Figure size 640x480 with 1 Axes>"
            ],
            "image/png": "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\n"
          },
          "metadata": {}
        }
      ]
    },
    {
      "cell_type": "markdown",
      "source": [
        "=>during exploitation phase the agent almost always reaches its goal each episode. In this case the success rate is (1-1/20)*100 % = 95%"
      ],
      "metadata": {
        "id": "0UXW_NDQQv46"
      }
    },
    {
      "cell_type": "markdown",
      "metadata": {
        "id": "4x9FC4BCoCXe"
      },
      "source": [
        "# **PART2**: SARSA-based agent (ON-policy)\n",
        "# In this part, you need to implement an agent that learns how to solve this problem with the on-policy sarsa algorithm. Re-answer all the questions as in part A):  from a) to g)"
      ]
    },
    {
      "cell_type": "code",
      "source": [
        "class QAgent:\n",
        "    def __init__(self, col, row, alpha):\n",
        "        \"\"\"SARSA Agent\"\"\"\n",
        "        self.col = col\n",
        "        self.row = row\n",
        "\n",
        "        # initialize the q table\n",
        "        self.q_table = np.zeros([self.row, self.col])\n",
        "\n",
        "        # discount factor\n",
        "        self.gamma = 0.9\n",
        "\n",
        "        # learning rate\n",
        "        self.alpha = alpha\n",
        "\n",
        "        # exploration rate\n",
        "        self.epsilon = 0.9\n",
        "        self.epsilon_decay = 0.9\n",
        "        self.epsilon_min = 0.1\n",
        "\n",
        "    def act(self, state):\n",
        "        \"\"\"Choose action based on epsilon-greedy policy\"\"\"\n",
        "        if np.random.rand() <= self.epsilon:\n",
        "            action = np.random.choice(self.col)  # exploration\n",
        "        else:\n",
        "            action = np.argmax(self.q_table[state])  # exploitation\n",
        "        return action\n",
        "\n",
        "    def update_q_table(self, state, action, reward, next_state, next_action):\n",
        "        \"\"\"Update Q-table using SARSA update rule\"\"\"\n",
        "        # SARSA: Q(s, a) = Q(s, a) + alpha * [reward + gamma * Q(s', a') - Q(s, a)]\n",
        "        self.q_table[state, action] += self.alpha * (\n",
        "            reward + self.gamma * self.q_table[next_state, next_action] - self.q_table[state, action]\n",
        "        )\n",
        "\n",
        "    def update_epsilon(self):\n",
        "        \"\"\"Update exploration-exploitation ratio\"\"\"\n",
        "        if self.epsilon > self.epsilon_min:\n",
        "            self.epsilon *= self.epsilon_decay\n",
        "\n",
        "    def print_q_table(self):\n",
        "        \"\"\"Print the Q-table\"\"\"\n",
        "        print(f\"Q-Table (Epsilon: {self.epsilon:.2f})\")\n",
        "        print(self.q_table)"
      ],
      "metadata": {
        "id": "q1E1j18QNHOX"
      },
      "execution_count": 32,
      "outputs": []
    },
    {
      "cell_type": "markdown",
      "source": [
        "# Training"
      ],
      "metadata": {
        "id": "_gxr00KxNnz2"
      }
    },
    {
      "cell_type": "code",
      "source": [
        "q_world = QWorld()\n",
        "q_agent = QAgent(q_world.col, q_world.row, alpha=0.1)\n",
        "delay = 0\n",
        "wins = 0\n",
        "episode_count = 10000\n",
        "\n",
        "iterations = 0\n",
        "percent_wins_list = []\n",
        "\n",
        "np.random.seed(5)\n",
        "\n",
        "for episode in range(episode_count):\n",
        "    state = q_world.reset()\n",
        "    done = False\n",
        "    action = q_agent.act(state)\n",
        "    print_episode(episode, delay=delay)\n",
        "\n",
        "    while not done:\n",
        "        next_state, reward, done = q_world.step(action)\n",
        "        next_action = q_agent.act(next_state)\n",
        "\n",
        "        #updating the q-table using SARSA\n",
        "        q_agent.update_q_table(state, action, reward, next_state, next_action)\n",
        "\n",
        "        state = next_state\n",
        "        action = next_action\n",
        "\n",
        "        iterations += 1\n",
        "\n",
        "        if done:\n",
        "            if q_world.is_in_win_state():\n",
        "                wins += 1\n",
        "            percent_wins = 100.0 * wins / (episode + 1)\n",
        "            percent_wins_list.append(percent_wins)\n",
        "            print(f\"-------{percent_wins:.2f}% Goals in {episode + 1} Episodes---------\")\n",
        "            q_agent.update_epsilon()\n",
        "\n",
        "    if episode > 100 and percent_wins >= 99.5:\n",
        "        print(f\"Solved in {iterations} iterations\")\n",
        "        break\n",
        "\n",
        "#plotting percent_wins vs episodes\n",
        "plt.plot(np.arange(1, len(percent_wins_list) + 1), percent_wins_list)\n",
        "plt.xlabel('Episodes')\n",
        "plt.ylabel('Percent Wins (%)')\n",
        "plt.title('Percent Wins vs Episodes')\n",
        "plt.grid(True)\n",
        "plt.show()\n"
      ],
      "metadata": {
        "colab": {
          "base_uri": "https://localhost:8080/",
          "height": 1000
        },
        "id": "Emu2SksnNPEe",
        "outputId": "df5220f7-b429-46ee-87fd-e48ab17f1695"
      },
      "execution_count": 38,
      "outputs": [
        {
          "output_type": "stream",
          "name": "stdout",
          "text": [
            "=============\n",
            "Episode  0\n",
            "=============\n",
            "-------0.00% Goals in 1 Episodes---------\n",
            "=============\n",
            "Episode  1\n",
            "=============\n",
            "-------0.00% Goals in 2 Episodes---------\n",
  
            ...
  
            "=============\n",
            "Episode  91\n",
            "=============\n",
            "-------97.83% Goals in 92 Episodes---------\n",
            "=============\n",

            ...
  
            "=============\n",
            "Episode  297\n",
            "=============\n",
            "-------99.33% Goals in 298 Episodes---------\n",

            ...
  
            "=============\n",
            "Episode  398\n",
            "=============\n",
            "-------99.50% Goals in 399 Episodes---------\n",
            "=============\n",
            "Episode  399\n",
            "=============\n",
            "-------99.50% Goals in 400 Episodes---------\n",
            "Solved in 969 iterations\n"
          ]
        },
        {
          "output_type": "display_data",
          "data": {
            "text/plain": [
              "<Figure size 640x480 with 1 Axes>"
            ],
            "image/png": "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\n"
          },
          "metadata": {}
        }
      ]
    },
    {
      "cell_type": "markdown",
      "source": [
        "# Final Q-table"
      ],
      "metadata": {
        "id": "26I2xw6WPJZS"
      }
    },
    {
      "cell_type": "code",
      "source": [
        "print(q_agent.q_table)"
      ],
      "metadata": {
        "colab": {
          "base_uri": "https://localhost:8080/"
        },
        "id": "8f5JQ8_zPLjj",
        "outputId": "b2ac354e-2a17-41ac-8737-1da42806230e"
      },
      "execution_count": 39,
      "outputs": [
        {
          "output_type": "stream",
          "name": "stdout",
          "text": [
            "[[ 50.80578582  14.091813    85.75654398  44.58590314]\n",
            " [ 29.95898583  28.89685276 100.          53.9017771 ]\n",
            " [  0.           0.           0.           0.        ]\n",
            " [  0.           0.          38.553136     0.        ]\n",
            " [  5.32330946   2.85904239 -19.          74.69349093]\n",
            " [  0.           0.           0.           0.        ]]\n"
          ]
        }
      ]
    },
    {
      "cell_type": "markdown",
      "source": [
        "=> Action 2 is the best action to take in state 3 with the highest q-value (38.553136)"
      ],
      "metadata": {
        "id": "gZomVgcPPZpO"
      }
    },
    {
      "cell_type": "markdown",
      "source": [
        "#  "
      ],
      "metadata": {
        "id": "C81ygCViNhbe"
      }
    },
    {
      "cell_type": "code",
      "source": [
        "num_episodes = 20\n",
        "goal_reached_list = []\n",
        "\n",
        "#redefining print_status for the sarsa agent\n",
        "def print_status(q_world, q_agent, done, step, delay, is_exploring):\n",
        "    os.system('clear')\n",
        "    q_world.print_world(action, step, is_exploring)\n",
        "    q_agent.print_q_table()\n",
        "    if done:\n",
        "        print(f\"Episode finished after {step} steps\")\n",
        "\n",
        "\n",
        "for episode in range(num_episodes):\n",
        "    state = q_world.reset()\n",
        "    done = False\n",
        "    q_agent.update_epsilon()\n",
        "\n",
        "    print_episode(episode, delay=delay)\n",
        "\n",
        "    action = q_agent.act(state)\n",
        "\n",
        "    while not done:\n",
        "        next_state, reward, done = q_world.step(action)\n",
        "        next_action = q_agent.act(next_state)\n",
        "        q_agent.update_q_table(state, action, reward, next_state, next_action)\n",
        "        state = next_state\n",
        "        action = next_action\n",
        "        #check if agent is in exploration phase\n",
        "        is_exploring = q_agent.epsilon > q_agent.epsilon_min\n",
        "        print_status(q_world, q_agent, done, q_world.count, delay, is_exploring)\n",
        "\n",
        "    goal_reached_list.append(1 if q_world.is_in_win_state() else 0)\n",
        "\n",
        "percent_wins_exploitation = 100 * sum(goal_reached_list) / num_episodes\n",
        "print(f\"Percent wins in exploitation phase: {percent_wins_exploitation:.2f}%\")"
      ],
      "metadata": {
        "colab": {
          "base_uri": "https://localhost:8080/"
        },
        "id": "FyzTiN2uNY9Y",
        "outputId": "355ab0dc-6ef6-4a97-ff97-62adc2570ea2"
      },
      "execution_count": 45,
      "outputs": [
        {
          "output_type": "stream",
          "name": "stdout",
          "text": [
            "=============\n",
            "Episode  0\n",
            "=============\n",
            "Step 1 : Exploit (Right)\n",
            "-------------\n",
            "|   | _ | G |\n",
            "-------------\n",
            "|   |   | H |\n",
            "-------------\n",
            "Q-Table (Epsilon: 0.10)\n",
            "[[ 53.77877577  14.091813    89.62390512  48.02434964]\n",
            " [ 29.95898583  28.89685276 100.          53.9017771 ]\n",
            " [  0.           0.           0.           0.        ]\n",
            " [  0.           0.          38.553136     0.        ]\n",
            " [  5.32330946   2.85904239 -19.          74.69349093]\n",
            " [  0.           0.           0.           0.        ]]\n",
            "Step 2 : Exploit (Left)\n",
            "-------------\n",
            "|   |   | \u001b[4mG\u001b[0m |\n",
            "-------------\n",
            "|   |   | H |\n",
            "-------------\n",
            "Q-Table (Epsilon: 0.10)\n",
            "[[ 53.77877577  14.091813    89.62390512  48.02434964]\n",
            " [ 29.95898583  28.89685276 100.          53.9017771 ]\n",
            " [  0.           0.           0.           0.        ]\n",
            " [  0.           0.          38.553136     0.        ]\n",
            " [  5.32330946   2.85904239 -19.          74.69349093]\n",
            " [  0.           0.           0.           0.        ]]\n",
            "Episode finished after 2 steps\n",
            "=============\n",
            "Episode  1\n",
            "=============\n",
            "Step 1 : Exploit (Up)\n",
            "-------------\n",
            "|   | _ | G |\n",
            "-------------\n",
            "|   |   | H |\n",
            "-------------\n",
            "Q-Table (Epsilon: 0.10)\n",
            "[[ 53.77877577  14.091813    85.51267455  48.02434964]\n",
            " [ 29.95898583  28.89685276 100.          53.9017771 ]\n",
            " [  0.           0.           0.           0.        ]\n",
            " [  0.           0.          38.553136     0.        ]\n",
            " [  5.32330946   2.85904239 -19.          74.69349093]\n",
            " [  0.           0.           0.           0.        ]]\n",
            "Step 2 : Exploit (Right)\n",
            "-------------\n",
            "|   | _ | G |\n",
            "-------------\n",
            "|   |   | H |\n",
            "-------------\n",
            "Q-Table (Epsilon: 0.10)\n",
            "[[ 53.77877577  14.091813    85.51267455  48.02434964]\n",
            " [ 29.95898583  28.89685276 100.          57.51159939]\n",
            " [  0.           0.           0.           0.        ]\n",
            " [  0.           0.          38.553136     0.        ]\n",
            " [  5.32330946   2.85904239 -19.          74.69349093]\n",
            " [  0.           0.           0.           0.        ]]\n",
            "Step 3 : Exploit (Left)\n",
            "-------------\n",
            "|   |   | \u001b[4mG\u001b[0m |\n",
            "-------------\n",
            "|   |   | H |\n",
            "-------------\n",
            "Q-Table (Epsilon: 0.10)\n",
            "[[ 53.77877577  14.091813    85.51267455  48.02434964]\n",
            " [ 29.95898583  28.89685276 100.          57.51159939]\n",
            " [  0.           0.           0.           0.        ]\n",
            " [  0.           0.          38.553136     0.        ]\n",
            " [  5.32330946   2.85904239 -19.          74.69349093]\n",
            " [  0.           0.           0.           0.        ]]\n",
            "Episode finished after 3 steps\n",

            ...
   
            "Episode  19\n",
            "=============\n",
            "Step 1 : Exploit (Right)\n",
            "-------------\n",
            "|   | _ | G |\n",
            "-------------\n",
            "|   |   | H |\n",
            "-------------\n",
            "Q-Table (Epsilon: 0.10)\n",
            "[[ 62.49503796  14.091813    89.32647652  50.95844132]\n",
            " [ 29.95898583  28.89685276 100.          57.51159939]\n",
            " [  0.           0.           0.           0.        ]\n",
            " [  0.           0.          38.553136     0.        ]\n",
            " [  5.32330946   2.85904239 -19.          74.69349093]\n",
            " [  0.           0.           0.           0.        ]]\n",
            "Step 2 : Exploit (Left)\n",
            "-------------\n",
            "|   |   | \u001b[4mG\u001b[0m |\n",
            "-------------\n",
            "|   |   | H |\n",
            "-------------\n",
            "Q-Table (Epsilon: 0.10)\n",
            "[[ 62.49503796  14.091813    89.32647652  50.95844132]\n",
            " [ 29.95898583  28.89685276 100.          57.51159939]\n",
            " [  0.           0.           0.           0.        ]\n",
            " [  0.           0.          38.553136     0.        ]\n",
            " [  5.32330946   2.85904239 -19.          74.69349093]\n",
            " [  0.           0.           0.           0.        ]]\n",
            "Episode finished after 2 steps\n",
            "Percent wins in exploitation phase: 100.00%\n"
          ]
        }
      ]
    },
    {
      "cell_type": "code",
      "source": [
        "plt.bar(range(1, num_episodes + 1), goal_reached_list)\n",
        "\n",
        "plt.xlabel('Episode')\n",
        "plt.ylabel('Goal reached (1: Yes, 0: No)')\n",
        "plt.title('Goal reached per episode')\n",
        "\n",
        "plt.show()"
      ],
      "metadata": {
        "colab": {
          "base_uri": "https://localhost:8080/",
          "height": 472
        },
        "id": "3bd-Om8SNdSY",
        "outputId": "d90d4f8e-0584-46e0-d6e4-6666fe5089ac"
      },
      "execution_count": 46,
      "outputs": [
        {
          "output_type": "display_data",
          "data": {
            "text/plain": [
              "<Figure size 640x480 with 1 Axes>"
            ],
            "image/png": "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\n"
          },
          "metadata": {}
        }
      ]
    },
    {
      "cell_type": "markdown",
      "source": [
        "=>during the exploitation phase the agent reaches its goal 100% of the time each episode. This shows that SARSA is better than off policy in this environment."
      ],
      "metadata": {
        "id": "_8Ca4uLXRe94"
      }
    },
    {
      "cell_type": "code",
      "source": [],
      "metadata": {
        "id": "_n7Dxp9ZRdF7"
      },
      "execution_count": null,
      "outputs": []
    }
  ],
  "metadata": {
    "colab": {
      "provenance": []
    },
    "kernelspec": {
      "display_name": "Python 3",
      "name": "python3"
    },
    "language_info": {
      "name": "python"
    }
  },
  "nbformat": 4,
  "nbformat_minor": 0
}
